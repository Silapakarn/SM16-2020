{
 "cells": [
  {
   "cell_type": "markdown",
   "metadata": {},
   "source": [
    "# <center> Statement"
   ]
  },
  {
   "cell_type": "markdown",
   "metadata": {},
   "source": [
    "<img src=\"https://drive.google.com/uc?id=1LG6XQwf6LOFhbcixy3JXH1elYtmy6EHO\" align=right width=150>"
   ]
  },
  {
   "cell_type": "markdown",
   "metadata": {},
   "source": [
    "<div align=right> Silapakarn Saniskosai<br>Student 2010531201004 \n",
    "    "
   ]
  },
  {
   "cell_type": "markdown",
   "metadata": {},
   "source": [
    "**ลำดับขั้นของ Python (The Python Conceptual Hierarchy)**\n",
    "1. Programs are composed of modules.\n",
    "2. Modules contain statements.\n",
    "3. Statements contain expressions.\n",
    "4. Expressions create and process objects."
   ]
  },
  {
   "cell_type": "markdown",
   "metadata": {},
   "source": [
    "# Python Statement"
   ]
  },
  {
   "cell_type": "markdown",
   "metadata": {},
   "source": [
    "**10-1. Python statements**"
   ]
  },
  {
   "cell_type": "markdown",
   "metadata": {},
   "source": [
    "<table>\n",
    "    <tr>\n",
    "        <td><div align=center><b> Statement </b></div>\n",
    "        <td><div align=center><b>หน้าที่ (Role) </b></div>\n",
    "        <td><div align=center><b>ตัวอย่าง(Example)</b></div>\n",
    "    <tr>\n",
    "            <td> Assignment การให้ค่า\n",
    "            <td><div align=center> Creating references  สร้างการชี้ไปที่ค่า\n",
    "            <td><pre><div align=center>a,b = 'good' , 'bad'</pre> \n",
    "            <div align=center>ทางขวามือเรียกว่า Literals</div>\n",
    "   <tr>\n",
    "            <td> Calls and other expressions\n",
    "            <td><div align=center> Running functions\n",
    "            <td><pre><div align=center>log.write(\"spam, ham\")</pre> \n",
    "   <tr>\n",
    "            <td><div align=center>print calls \n",
    "            <td><div align=center>Printing objects \n",
    "            <td><pre><div align=center>print('The Killer', joke)</pre> \n",
    "   <tr>\n",
    "            <td><div align=center>if/elif/else\n",
    "            <td><div align=center>Selecting actions\n",
    "            <td><pre><div align=center>if \"python\" in text : \n",
    "   print(text)</pre> \n",
    "    <tr>\n",
    "            <td><div align=center>for/else\n",
    "            <td><div align=center>Iteration\n",
    "            <td><pre><div align=center>for x in mylist  \n",
    "   print(x)</pre> \n",
    "    <tr>\n",
    "            <td><div align=center>while/else\n",
    "            <td><div align=center>General loops\n",
    "            <td><pre><div align=center>while X > Y : \n",
    "   print('hello')</pre>  \n",
    "    <tr>\n",
    "            <td><div align=center>pass\n",
    "            <td><div align=center>Empty placeholder\n",
    "            <td><pre><div align=center>while True:\n",
    "   pass</pre> \n",
    "    <tr>\n",
    "            <td><div align=center>break\n",
    "            <td><div align=center>Loop exit \n",
    "            <td><pre><div align=center>while True:\n",
    "   if exittest(): break</pre> \n",
    "    <tr>\n",
    "            <td><div align=center>continue\n",
    "            <td><div align=center>Loop continue \n",
    "            <td><pre><div align=center>while True:\n",
    "  if skiptest(): continue</pre> \n",
    "    <tr>\n",
    "            <td><div align=center>def\n",
    "            <td><div align=center>Loop continue \n",
    "            <td><pre><div align=center>while True:\n",
    "  if skiptest(): continue</pre> \n",
    "    <tr>\n",
    "            <td><div align=center>return\n",
    "            <td><div align=center>Functions results \n",
    "            <td><pre><div align=center>def f(a, b, c=1, *d):\n",
    "  return a+b+c+d[0]</pre> \n",
    "    <tr>\n",
    "            <td><div align=center>yield\n",
    "            <td><div align=center>Generator functions\n",
    "            <td><pre><div align=center>def gen(n):\n",
    "            for i in n: yield i*2</pre> \n",
    "    <tr>\n",
    "            <td><div align=center>global\n",
    "            <td><div align=center>Namespaces \n",
    "            <td><pre><div align=center>x = 'old'\n",
    "  def function():<div align=right>global x,  y; x = 'new'</pre> \n",
    "    <tr>\n",
    "            <td><div align=center>nonlocal\n",
    "            <td><div align=center>Namespaces (3.X)\n",
    "            <td><pre><div align=center>def outer():\n",
    " x = 'old'</pre>\n",
    "    <tr>\n",
    "            <td><div align=center>import\n",
    "            <td><div align=center>Module access\n",
    "            <td><pre><div align=center>import sys</pre> \n",
    "    <tr>\n",
    "            <td><div align=center>from\n",
    "            <td><div align=center>Attribute access\n",
    "            <td><pre><div align=center>from sys import stdin</pre>\n",
    "    <tr>\n",
    "            <td><div align=center>class\n",
    "            <td><div align=center>Building objects\n",
    "            <td><pre><div align=left>class Subclass(Superclass):\n",
    "            staticData = []\n",
    "            def method(self): pass</pre>\n",
    "    <tr>\n",
    "            <td><div align=center>try/except/ finally \n",
    "            <td><div align=center>Catching exceptions\n",
    "            <td><pre><div align=left>try :\n",
    "    action()\n",
    "<div align=left>except :\n",
    "    print('action error')</pre>\n",
    "    <tr>\n",
    "           <td><div align=center>raise\n",
    "           <td><div align=center>Triggering exceptions\n",
    "           <td><div align=center>raise EndSearch(location)\n",
    "    <tr>\n",
    "           <td><div align=center>assert\n",
    "           <td><div align=center>Debugging checks\n",
    "           <td><div align=center>assert X > Y, ' X too small ' \n",
    "    <tr>\n",
    "           <td><div align=center>with/as\n",
    "           <td><div align=center>Context managers (3.X, 2.6+)\n",
    "           <td><div align=center>with open(' data ') as myfile:\n",
    "    process(myfile)</pre>\n",
    "    <tr>\n",
    "           <td><div align=center>del\n",
    "           <td><div align=center>Deleting references \n",
    "           <td><div align=center>del data[k]\n",
    "<div align=center>del data[i:j]\n",
    "<div align=center>del obj.attr\n",
    "<div align=center>del variable</pre>    \n",
    "</table>"
   ]
  },
  {
   "cell_type": "markdown",
   "metadata": {},
   "source": [
    "**11-1.Assignment statement forms**"
   ]
  },
  {
   "cell_type": "markdown",
   "metadata": {},
   "source": [
    "<table>\n",
    "    <tr>\n",
    "        <td><div align=center><b>Operation </b></div>\n",
    "        <td><div align=center><b>Interpretation</b></div>\n",
    "    <tr>\n",
    "            <td><div align=left>spam = 'Spam' \n",
    "            <td><div align=left>Basic form\n",
    "   <tr>\n",
    "            <td><div align=left>spam, ham = ' yum ', ' YUM '\n",
    "            <td><div align=left>Tuple assignment (positional)\n",
    "   <tr>\n",
    "            <td><div align=left>[spam, ham] = ['yum', 'YUM'] \n",
    "            <td><div align=left>List assignment (positional)\n",
    "   <tr>\n",
    "            <td><div align=left>a, b, c, d = 'spam'  \n",
    "            <td><div align=left>Sequence assignment, generalized\n",
    "   <tr>\n",
    "            <td><div align=left>a, *b = 'spam' \n",
    "            <td><div align=left>Extended sequence unpacking (Python 3.X)\n",
    "   <tr>\n",
    "            <td><div align=left>spam = ham = ' lunch ' \n",
    "            <td><div align=left>Multiple-target assignment                \n",
    "   <tr>\n",
    "            <td><div align=left>spams += 42 \n",
    "            <td><div align=left>Augmented assignment (equivalent to spams = spams + 42) \n",
    "</table>                "
   ]
  },
  {
   "cell_type": "markdown",
   "metadata": {},
   "source": [
    "**11-2. Augmented assignment statements**"
   ]
  },
  {
   "cell_type": "markdown",
   "metadata": {},
   "source": [
    "<table>\n",
    "    <tr>\n",
    "        <td><div align=center><b> X += Y</b></div>\n",
    "        <td><div align=center><b>X&=Y</b></div>    \n",
    "        <td><div align=center><b>X −= Y</b></div>  \n",
    "        <td><div align=center><b>X |= Y</b></div>   \n",
    "    <tr>\n",
    "        <td><div align=center><b>X *= Y</b></div>\n",
    "        <td><div align=center><b>X ^= Y</b></div>    \n",
    "        <td><div align=center><b>X /= Y</b></div>  \n",
    "        <td><div align=center><b>X >>= Y</b></div>\n",
    "    <tr>\n",
    "        <td><div align=center><b>X %= Y</b></div>\n",
    "        <td><div align=center><b>X <<= Y</b></div>    \n",
    "        <td><div align=center><b>X **= Y</b></div>  \n",
    "        <td><div align=center><b>X //= Y</b></div>  \n",
    "</table>            "
   ]
  },
  {
   "cell_type": "markdown",
   "metadata": {},
   "source": [
    "**11-3 Python 3.X reserved words**"
   ]
  },
  {
   "cell_type": "markdown",
   "metadata": {},
   "source": [
    "<table>\n",
    "    <tr>\n",
    "        <td><div align=center>False\n",
    "        <td><div align=center>class\n",
    "        <td><div align=center>finally\n",
    "        <td><div align=center>is\n",
    "        <td><div align=center>return\n",
    "    <tr>\n",
    "        <td><div align=center>None\n",
    "        <td><div align=center>continue\n",
    "        <td><div align=center>for\n",
    "        <td><div align=center>lambda\n",
    "        <td><div align=center>try\n",
    "    <tr>\n",
    "        <td><div align=center>True\n",
    "        <td><div align=center>def\n",
    "        <td><div align=center>from\n",
    "        <td><div align=center>nonlocal\n",
    "        <td><div align=center>While\n",
    "    <tr>\n",
    "        <td><div align=center>and\n",
    "        <td><div align=center>del\n",
    "        <td><div align=center>global\n",
    "        <td><div align=center>not\n",
    "        <td><div align=center>with\n",
    "    <tr>\n",
    "        <td><div align=center>as\n",
    "        <td><div align=center>elif\n",
    "        <td><div align=center>if\n",
    "        <td><div align=center>or\n",
    "        <td><div align=center>yield\n",
    "    <tr>\n",
    "        <td><div align=center>assert\n",
    "        <td><div align=center>else\n",
    "        <td><div align=center>import\n",
    "        <td><div align=center>pass\n",
    "        <td><div align=center>\n",
    "    <tr>\n",
    "        <td><div align=center>break\n",
    "        <td><div align=center>except\n",
    "        <td><div align=center>in\n",
    "        <td><div align=center>raise\n",
    "        <td><div align=center>  \n",
    "</table>      "
   ]
  },
  {
   "cell_type": "markdown",
   "metadata": {},
   "source": [
    "**11-4 Common Python expression statements**"
   ]
  },
  {
   "cell_type": "markdown",
   "metadata": {},
   "source": [
    "<table>\n",
    "    <tr>\n",
    "        <td><div align=left><b>Operation </b></div>\n",
    "        <td><div align=left><b>Interpretation</b></div>\n",
    "    <tr>\n",
    "        <td><div align=left>spam(eggs, ham)\n",
    "        <td><div align=left>Function calls\n",
    "    <tr>\n",
    "        <td><div align=left>spam.ham(eggs)\n",
    "        <td><div align=left>Method calls\n",
    "    <tr>\n",
    "        <td><div align=left>spam\n",
    "        <td><div align=left>Printing variables in the interactive interpreter\n",
    "    <tr>\n",
    "        <td><div align=left>print(a, b, c, sep='')\n",
    "        <td><div align=left>Printing operations in Python 3.X\n",
    "    <tr>\n",
    "        <td><div align=left>yield x ** 2\n",
    "        <td><div align=left>Yielding expression statements"
   ]
  },
  {
   "cell_type": "markdown",
   "metadata": {},
   "source": [
    "**11-5 Python 2.X print statement forms**"
   ]
  },
  {
   "cell_type": "markdown",
   "metadata": {},
   "source": [
    "<table><div align=left>\n",
    "    <tr>\n",
    "        <td><div align=left><b>Python 2.X statement</b></div>     \n",
    "        <td><div align=left><b>Python 3.X equivalent</b></div>    \n",
    "        <td><div align=left><b>Interpretation</b></div>                  \n",
    "    <tr>\n",
    "            <td><div align=left>print x, y\n",
    "            <td><div align=left>print(x, y)\n",
    "            <td><div align=left>Print objects’ textual forms to sys.stdout; add a\n",
    "<div align=left>space between the items and an end-of-line at the end</pre>\n",
    "    <tr>\n",
    "            <td><div align=left>print x, y,\n",
    "            <td><div align=left>print(x, y, end= ' ' ) \n",
    "            <td><div align=left>Same, but don’t add end-of-line at end of text</pre>\n",
    "    <tr>\n",
    "            <td><div align=left>print >> afile, x, y \n",
    "            <td><div align=left>print(x, y, file=afile) \n",
    "            <td><div align=left>Send text to afile.write, not to\n",
    "<div align=left>sys.stdout.write</pre>\n",
    "             \n",
    "</table> "
   ]
  },
  {
   "cell_type": "markdown",
   "metadata": {},
   "source": [
    "Statement บน Python มีลักษณะสำศัญ  \n",
    "\n",
    "1. ใช้กั้นหน้า (Indent) บอก Statement ระดับของกั้นหน้า ตามเครื่่องหมายทวิภาค ( : )\n",
    "1. หลีกเลี่ยงการใช้วงเล็บ \"(  )\" วงเล็บใช้กับตัวเก็บ ( Container ) แบบ Tuple"
   ]
  },
  {
   "cell_type": "code",
   "execution_count": null,
   "metadata": {},
   "outputs": [],
   "source": [
    ":\n",
    "    :\n",
    "        :"
   ]
  },
  {
   "cell_type": "markdown",
   "metadata": {},
   "source": [
    "กั้นหน้าทำให้ Code ของ Python อ่านง่าย ทำให้ Python เป็นที่นิยมใช้กันทั่วไป"
   ]
  },
  {
   "cell_type": "markdown",
   "metadata": {},
   "source": [
    "# The Assignment Statement"
   ]
  },
  {
   "cell_type": "code",
   "execution_count": null,
   "metadata": {},
   "outputs": [],
   "source": []
  },
  {
   "cell_type": "markdown",
   "metadata": {},
   "source": [
    "# Sequence Assignment"
   ]
  },
  {
   "cell_type": "code",
   "execution_count": 1,
   "metadata": {},
   "outputs": [
    {
     "data": {
      "text/plain": [
       "(1, 2)"
      ]
     },
     "execution_count": 1,
     "metadata": {},
     "output_type": "execute_result"
    }
   ],
   "source": [
    "nudge = 1                              # Basic assignment\n",
    "wink = 2                 \n",
    "A, B = nudge, wink                 # Tuple assignment\n",
    "A, B"
   ]
  },
  {
   "cell_type": "code",
   "execution_count": 2,
   "metadata": {},
   "outputs": [
    {
     "data": {
      "text/plain": [
       "(1, 2)"
      ]
     },
     "execution_count": 2,
     "metadata": {},
     "output_type": "execute_result"
    }
   ],
   "source": [
    "[C, D] = [nudge, wink]         # List assignment\n",
    "C, D"
   ]
  },
  {
   "cell_type": "code",
   "execution_count": 3,
   "metadata": {},
   "outputs": [
    {
     "data": {
      "text/plain": [
       "(2, 1)"
      ]
     },
     "execution_count": 3,
     "metadata": {},
     "output_type": "execute_result"
    }
   ],
   "source": [
    "' ' ' การสลับค่า  ' ' '  \n",
    "nudge = 1\n",
    "wink = 2\n",
    "nudge, wink = wink, nudge        #TubpLes :swaps values\n",
    "nudge, wink                             # Like T = nudge; nudge = wink; wink = T"
   ]
  },
  {
   "cell_type": "code",
   "execution_count": 4,
   "metadata": {},
   "outputs": [
    {
     "data": {
      "text/plain": [
       "(1, 3)"
      ]
     },
     "execution_count": 4,
     "metadata": {},
     "output_type": "execute_result"
    }
   ],
   "source": [
    "[a, b, c] = (1, 2, 3)\n",
    "a, c"
   ]
  },
  {
   "cell_type": "code",
   "execution_count": 5,
   "metadata": {},
   "outputs": [
    {
     "data": {
      "text/plain": [
       "('A', 'C')"
      ]
     },
     "execution_count": 5,
     "metadata": {},
     "output_type": "execute_result"
    }
   ],
   "source": [
    "(a,b,c) = \"ABC\"\n",
    "a, c"
   ]
  },
  {
   "cell_type": "code",
   "execution_count": 2,
   "metadata": {},
   "outputs": [
    {
     "data": {
      "text/plain": [
       "2"
      ]
     },
     "execution_count": 2,
     "metadata": {},
     "output_type": "execute_result"
    }
   ],
   "source": [
    "o = 1\n",
    "o\n",
    "\n",
    "S= 2 \n",
    "S"
   ]
  },
  {
   "cell_type": "code",
   "execution_count": 3,
   "metadata": {},
   "outputs": [
    {
     "data": {
      "text/plain": [
       "7"
      ]
     },
     "execution_count": 3,
     "metadata": {},
     "output_type": "execute_result"
    }
   ],
   "source": [
    "UU=7\n",
    "UU"
   ]
  }
 ],
 "metadata": {
  "kernelspec": {
   "display_name": "Python 3",
   "language": "python",
   "name": "python3"
  },
  "language_info": {
   "codemirror_mode": {
    "name": "ipython",
    "version": 3
   },
   "file_extension": ".py",
   "mimetype": "text/x-python",
   "name": "python",
   "nbconvert_exporter": "python",
   "pygments_lexer": "ipython3",
   "version": "3.8.7"
  }
 },
 "nbformat": 4,
 "nbformat_minor": 4
}
